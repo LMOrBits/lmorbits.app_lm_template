{
 "cells": [
  {
   "cell_type": "code",
   "execution_count": 1,
   "id": "b95a52c8",
   "metadata": {},
   "outputs": [
    {
     "name": "stdout",
     "output_type": "stream",
     "text": [
      "July 4, 2025 > 13:29:45 |  pyapp.utils.config : 14 |  \u001b[1m ℹ️ INFO  |  Searching for config file appdeps.toml \u001b[0m \n",
      "July 4, 2025 > 13:29:45 |  pyapp.utils.config : 16 |  \u001b[34m\u001b[1m 🐞 DEBUG  |  Checking /Users/parsa/Desk/projects/university/slmops-project/slmops-thesis/documenting/lmorbits.app_lm_template/src/app_lm_template/config.py/appdeps.toml \u001b[0m \n",
      "July 4, 2025 > 13:29:45 |  pyapp.utils.config : 16 |  \u001b[34m\u001b[1m 🐞 DEBUG  |  Checking /Users/parsa/Desk/projects/university/slmops-project/slmops-thesis/documenting/lmorbits.app_lm_template/src/app_lm_template/appdeps.toml \u001b[0m \n",
      "July 4, 2025 > 13:29:45 |  pyapp.utils.config : 16 |  \u001b[34m\u001b[1m 🐞 DEBUG  |  Checking /Users/parsa/Desk/projects/university/slmops-project/slmops-thesis/documenting/lmorbits.app_lm_template/src/appdeps.toml \u001b[0m \n",
      "July 4, 2025 > 13:29:45 |  pyapp.utils.config : 16 |  \u001b[34m\u001b[1m 🐞 DEBUG  |  Checking /Users/parsa/Desk/projects/university/slmops-project/slmops-thesis/documenting/lmorbits.app_lm_template/appdeps.toml \u001b[0m \n",
      "July 4, 2025 > 13:29:45 |  pyapp.utils.config : 14 |  \u001b[1m ℹ️ INFO  |  Searching for config file appdeps.env \u001b[0m \n",
      "July 4, 2025 > 13:29:45 |  pyapp.utils.config : 16 |  \u001b[34m\u001b[1m 🐞 DEBUG  |  Checking /Users/parsa/Desk/projects/university/slmops-project/slmops-thesis/documenting/lmorbits.app_lm_template/src/app_lm_template/config.py/appdeps.env \u001b[0m \n",
      "July 4, 2025 > 13:29:45 |  pyapp.utils.config : 16 |  \u001b[34m\u001b[1m 🐞 DEBUG  |  Checking /Users/parsa/Desk/projects/university/slmops-project/slmops-thesis/documenting/lmorbits.app_lm_template/src/app_lm_template/appdeps.env \u001b[0m \n",
      "July 4, 2025 > 13:29:45 |  pyapp.utils.config : 16 |  \u001b[34m\u001b[1m 🐞 DEBUG  |  Checking /Users/parsa/Desk/projects/university/slmops-project/slmops-thesis/documenting/lmorbits.app_lm_template/src/appdeps.env \u001b[0m \n",
      "July 4, 2025 > 13:29:45 |  pyapp.utils.config : 16 |  \u001b[34m\u001b[1m 🐞 DEBUG  |  Checking /Users/parsa/Desk/projects/university/slmops-project/slmops-thesis/documenting/lmorbits.app_lm_template/appdeps.env \u001b[0m \n",
      "July 4, 2025 > 13:29:45 |  pyapp.utils.config : 16 |  \u001b[34m\u001b[1m 🐞 DEBUG  |  Checking /Users/parsa/Desk/projects/university/slmops-project/slmops-thesis/documenting/appdeps.env \u001b[0m \n",
      "July 4, 2025 > 13:29:45 |  pyapp.utils.config : 16 |  \u001b[34m\u001b[1m 🐞 DEBUG  |  Checking /Users/parsa/Desk/projects/university/slmops-project/slmops-thesis/appdeps.env \u001b[0m \n",
      "July 4, 2025 > 13:29:45 |  pyapp.utils.config : 16 |  \u001b[34m\u001b[1m 🐞 DEBUG  |  Checking /Users/parsa/Desk/projects/university/slmops-project/appdeps.env \u001b[0m \n",
      "July 4, 2025 > 13:29:45 |  pyapp.utils.config : 16 |  \u001b[34m\u001b[1m 🐞 DEBUG  |  Checking /Users/parsa/Desk/projects/university/appdeps.env \u001b[0m \n",
      "July 4, 2025 > 13:29:45 |  pyapp.utils.config : 16 |  \u001b[34m\u001b[1m 🐞 DEBUG  |  Checking /Users/parsa/Desk/projects/appdeps.env \u001b[0m \n",
      "July 4, 2025 > 13:29:45 |  pyapp.utils.config : 16 |  \u001b[34m\u001b[1m 🐞 DEBUG  |  Checking /Users/parsa/Desk/appdeps.env \u001b[0m \n",
      "July 4, 2025 > 13:29:45 |  pyapp.utils.config : 16 |  \u001b[34m\u001b[1m 🐞 DEBUG  |  Checking /Users/parsa/appdeps.env \u001b[0m \n",
      "July 4, 2025 > 13:29:45 |  pyapp.utils.config : 16 |  \u001b[34m\u001b[1m 🐞 DEBUG  |  Checking /Users/appdeps.env \u001b[0m \n",
      "July 4, 2025 > 13:29:45 |  pyapp.utils.config : 14 |  \u001b[1m ℹ️ INFO  |  Searching for config file appdeps.toml \u001b[0m \n",
      "July 4, 2025 > 13:29:45 |  pyapp.utils.config : 16 |  \u001b[34m\u001b[1m 🐞 DEBUG  |  Checking /Users/parsa/Desk/projects/university/slmops-project/slmops-thesis/documenting/lmorbits.app_lm_template/appdeps.toml/appdeps.toml \u001b[0m \n",
      "July 4, 2025 > 13:29:45 |  pyapp.utils.config : 16 |  \u001b[34m\u001b[1m 🐞 DEBUG  |  Checking /Users/parsa/Desk/projects/university/slmops-project/slmops-thesis/documenting/lmorbits.app_lm_template/appdeps.toml \u001b[0m \n",
      "July 4, 2025 > 13:29:45 |  pyapp.model_connection.model : 32 |  \u001b[34m\u001b[1m 🐞 DEBUG  |  args: {'model': 'openai/gpt-4o', 'api_key': None, 'api_base': None, 'temperature': 0.0, 'max_tokens': 2000, 'top_p': 1.0, 'top_k': 5} \u001b[0m \n"
     ]
    },
    {
     "name": "stderr",
     "output_type": "stream",
     "text": [
      "/Users/parsa/Desk/projects/university/slmops-project/slmops-thesis/documenting/lmorbits.app_lm_template/.venv/lib/python3.12/site-packages/pyapp/model_connection/model.py:33: LangChainDeprecationWarning: The class `ChatLiteLLM` was deprecated in LangChain 0.3.24 and will be removed in 1.0. An updated version of the class exists in the :class:`~langchain-litellm package and should be used instead. To use it run `pip install -U :class:`~langchain-litellm` and import as `from :class:`~langchain_litellm import ChatLiteLLM``.\n",
      "  model = ChatLiteLLM(**args)\n"
     ]
    },
    {
     "name": "stdout",
     "output_type": "stream",
     "text": [
      "July 4, 2025 > 13:29:45 |  pyapp.utils.config : 14 |  \u001b[1m ℹ️ INFO  |  Searching for config file pyapp.yaml \u001b[0m \n",
      "July 4, 2025 > 13:29:45 |  pyapp.utils.config : 16 |  \u001b[34m\u001b[1m 🐞 DEBUG  |  Checking /Users/parsa/Desk/projects/university/slmops-project/slmops-thesis/documenting/lmorbits.app_lm_template/src/app_lm_template/config.py/pyapp.yaml \u001b[0m \n",
      "July 4, 2025 > 13:29:45 |  pyapp.utils.config : 16 |  \u001b[34m\u001b[1m 🐞 DEBUG  |  Checking /Users/parsa/Desk/projects/university/slmops-project/slmops-thesis/documenting/lmorbits.app_lm_template/src/app_lm_template/pyapp.yaml \u001b[0m \n",
      "July 4, 2025 > 13:29:45 |  pyapp.utils.config : 16 |  \u001b[34m\u001b[1m 🐞 DEBUG  |  Checking /Users/parsa/Desk/projects/university/slmops-project/slmops-thesis/documenting/lmorbits.app_lm_template/src/pyapp.yaml \u001b[0m \n",
      "July 4, 2025 > 13:29:45 |  pyapp.utils.config : 16 |  \u001b[34m\u001b[1m 🐞 DEBUG  |  Checking /Users/parsa/Desk/projects/university/slmops-project/slmops-thesis/documenting/lmorbits.app_lm_template/pyapp.yaml \u001b[0m \n",
      "July 4, 2025 > 13:29:45 |  pyapp.utils.config : 47 |  \u001b[1m ℹ️ INFO  |  omegaconf_dict: {'main': {'prompts': [{'role': 'system', 'content': 'you are a helpful assistant. you are working in airplane agency.'}], 'params': ['documents', 'question']}} \u001b[0m \n"
     ]
    },
    {
     "data": {
      "text/plain": [
       "'airplane_simple-chatbot'"
      ]
     },
     "execution_count": 1,
     "metadata": {},
     "output_type": "execute_result"
    }
   ],
   "source": [
    "from app_lm_template.config import app_config\n",
    "app_config.project.name"
   ]
  },
  {
   "cell_type": "code",
   "execution_count": null,
   "id": "91d11349",
   "metadata": {},
   "outputs": [],
   "source": []
  }
 ],
 "metadata": {
  "kernelspec": {
   "display_name": ".venv",
   "language": "python",
   "name": "python3"
  },
  "language_info": {
   "codemirror_mode": {
    "name": "ipython",
    "version": 3
   },
   "file_extension": ".py",
   "mimetype": "text/x-python",
   "name": "python",
   "nbconvert_exporter": "python",
   "pygments_lexer": "ipython3",
   "version": "3.12.7"
  }
 },
 "nbformat": 4,
 "nbformat_minor": 5
}
